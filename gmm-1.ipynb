{
 "cells": [
  {
   "cell_type": "code",
   "execution_count": 371,
   "metadata": {},
   "outputs": [],
   "source": [
    "import numpy as np \n",
    "import matplotlib.pyplot as plt \n",
    "from sklearn.datasets import make_blobs\n",
    "from sklearn.mixture import GaussianMixture "
   ]
  },
  {
   "cell_type": "markdown",
   "metadata": {},
   "source": [
    "### make blobs is used generally for generating (synthetik i,e artifical datasets )\n"
   ]
  },
  {
   "cell_type": "code",
   "execution_count": 372,
   "metadata": {},
   "outputs": [],
   "source": [
    "#generate new datasets \n",
    "x  , y_true  = make_blobs(n_samples = 200 , n_features= 2 , centers= 4 , cluster_std=  0.60  ,  random_state = 42 )\n"
   ]
  },
  {
   "cell_type": "code",
   "execution_count": 373,
   "metadata": {},
   "outputs": [
    {
     "name": "stderr",
     "output_type": "stream",
     "text": [
      "/tmp/ipykernel_78197/3628622751.py:1: UserWarning: No data for colormapping provided via 'c'. Parameters 'cmap' will be ignored\n",
      "  plt.scatter(x[: , 0 ]  , y = x[: , 1 ]   , s = 20 , cmap ='viridis' )\n"
     ]
    },
    {
     "data": {
      "image/png": "[encoded data removed]",
      "text/plain": [
       "<Figure size 640x480 with 1 Axes>"
      ]
     },
     "metadata": {},
     "output_type": "display_data"
    }
   ],
   "source": [
    "plt.scatter(x[: , 0 ]  , y = x[: , 1 ]   , s = 20 , cmap ='viridis' )\n",
    "plt.show()"
   ]
  },
  {
   "cell_type": "code",
   "execution_count": 374,
   "metadata": {},
   "outputs": [],
   "source": [
    "#apply gaussian mixture model clustering \n",
    "gmm = GaussianMixture(n_components= 4 , random_state= 0)"
   ]
  },
  {
   "cell_type": "code",
   "execution_count": 375,
   "metadata": {},
   "outputs": [],
   "source": [
    "#fit \n",
    "gmm = gmm.fit(x)"
   ]
  },
  {
   "cell_type": "code",
   "execution_count": 376,
   "metadata": {},
   "outputs": [],
   "source": [
    "#gmm predictions\n",
    "labels = gmm.predict(x)\n",
    "#this is hard clustering meaning  : meaning it will put into only one cluster "
   ]
  },
  {
   "cell_type": "code",
   "execution_count": 377,
   "metadata": {},
   "outputs": [
    {
     "data": {
      "text/plain": [
       "array([1, 3, 0, 0, 2, 2, 1, 0, 1, 2, 2, 1, 1, 2, 2, 2, 3, 0, 2, 2, 2, 2,\n",
       "       0, 3, 0, 3, 3, 2, 3, 1, 2, 2, 0, 0, 3, 1, 0, 1, 0, 3, 2, 3, 2, 2,\n",
       "       0, 1, 1, 2, 1, 3, 0, 3, 0, 1, 3, 3, 2, 2, 3, 1, 0, 1, 2, 0, 0, 2,\n",
       "       1, 3, 0, 3, 3, 0, 3, 2, 1, 2, 1, 3, 2, 3, 3, 1, 2, 0, 0, 0, 0, 3,\n",
       "       1, 0, 2, 3, 1, 1, 1, 0, 3, 1, 2, 3, 0, 0, 3, 2, 3, 1, 0, 2, 2, 0,\n",
       "       1, 2, 3, 0, 3, 0, 0, 3, 3, 3, 0, 2, 1, 0, 0, 1, 3, 1, 1, 3, 2, 2,\n",
       "       3, 0, 0, 1, 2, 2, 3, 2, 1, 3, 0, 1, 1, 3, 1, 0, 2, 2, 3, 0, 1, 0,\n",
       "       2, 0, 0, 1, 1, 1, 3, 1, 1, 0, 3, 2, 1, 1, 2, 1, 0, 3, 2, 2, 1, 2,\n",
       "       1, 3, 3, 2, 3, 2, 0, 0, 0, 3, 1, 1, 1, 3, 3, 2, 0, 0, 3, 0, 1, 3,\n",
       "       2, 1])"
      ]
     },
     "execution_count": 377,
     "metadata": {},
     "output_type": "execute_result"
    }
   ],
   "source": [
    "labels"
   ]
  },
  {
   "cell_type": "code",
   "execution_count": 378,
   "metadata": {},
   "outputs": [
    {
     "data": {
      "text/plain": [
       "array([[1.62611337e-158, 1.00000000e+000, 6.01423862e-142,\n",
       "        1.90838371e-092],\n",
       "       [2.89146215e-019, 1.30443999e-093, 2.74454764e-174,\n",
       "        1.00000000e+000],\n",
       "       [1.00000000e+000, 6.15791920e-156, 6.08844666e-115,\n",
       "        8.70001307e-037],\n",
       "       [1.00000000e+000, 2.30714688e-171, 1.85009681e-109,\n",
       "        1.72608067e-046],\n",
       "       [5.98735117e-161, 8.53143668e-142, 1.00000000e+000,\n",
       "        1.74094432e-171],\n",
       "       [5.20862958e-165, 9.78453430e-130, 1.00000000e+000,\n",
       "        5.51086607e-169],\n",
       "       [2.88951981e-137, 1.00000000e+000, 5.33963365e-126,\n",
       "        2.15914521e-077],\n",
       "       [1.00000000e+000, 1.08309325e-166, 7.45401852e-127,\n",
       "        1.46394464e-038],\n",
       "       [1.42829027e-126, 1.00000000e+000, 1.24793542e-143,\n",
       "        1.91510160e-063],\n",
       "       [9.04437054e-165, 5.69235957e-129, 1.00000000e+000,\n",
       "        1.72645189e-168],\n",
       "       [5.86360534e-174, 1.60503816e-150, 1.00000000e+000,\n",
       "        3.19901486e-184],\n",
       "       [1.53188702e-137, 1.00000000e+000, 1.26574607e-136,\n",
       "        4.91535609e-075],\n",
       "       [8.95491454e-148, 1.00000000e+000, 7.11840036e-141,\n",
       "        4.29923758e-083],\n",
       "       [4.64629000e-172, 3.31227476e-145, 1.00000000e+000,\n",
       "        1.41230730e-180],\n",
       "       [3.82500248e-170, 1.85596874e-160, 1.00000000e+000,\n",
       "        4.10297125e-186],\n",
       "       [2.81779634e-181, 2.03487048e-152, 1.00000000e+000,\n",
       "        5.10324909e-190],\n",
       "       [1.34798846e-033, 3.71427226e-077, 1.43646264e-186,\n",
       "        1.00000000e+000],\n",
       "       [1.00000000e+000, 3.91482349e-171, 5.66567767e-127,\n",
       "        7.76732744e-041],\n",
       "       [2.18413581e-197, 1.95767800e-143, 1.00000000e+000,\n",
       "        4.77650026e-197],\n",
       "       [2.05057518e-192, 1.74163039e-132, 1.00000000e+000,\n",
       "        5.04616612e-189],\n",
       "       [7.09769929e-160, 9.90164829e-114, 1.00000000e+000,\n",
       "        1.39805906e-158],\n",
       "       [9.25675898e-183, 2.25588818e-149, 1.00000000e+000,\n",
       "        1.10985868e-189],\n",
       "       [1.00000000e+000, 4.15423109e-152, 1.19542192e-115,\n",
       "        1.36102844e-034],\n",
       "       [3.64425770e-029, 1.53704121e-063, 1.04861064e-157,\n",
       "        1.00000000e+000],\n",
       "       [1.00000000e+000, 5.80158940e-150, 4.73196987e-121,\n",
       "        8.86991264e-032],\n",
       "       [1.73097112e-029, 2.61671269e-079, 1.27595896e-179,\n",
       "        1.00000000e+000],\n",
       "       [2.01228291e-026, 2.46547813e-081, 5.66757012e-175,\n",
       "        1.00000000e+000],\n",
       "       [7.02808134e-165, 7.11367013e-139, 1.00000000e+000,\n",
       "        6.97633460e-173],\n",
       "       [7.38384861e-029, 9.73039678e-060, 1.08140504e-151,\n",
       "        1.00000000e+000],\n",
       "       [1.95186008e-133, 1.00000000e+000, 3.02399182e-106,\n",
       "        1.46512219e-078],\n",
       "       [5.54555785e-180, 4.79236842e-159, 1.00000000e+000,\n",
       "        4.24958822e-192],\n",
       "       [3.09242460e-202, 2.75712933e-129, 1.00000000e+000,\n",
       "        1.86795723e-194],\n",
       "       [1.00000000e+000, 3.79199762e-187, 2.29553288e-138,\n",
       "        1.75966013e-045],\n",
       "       [1.00000000e+000, 1.17740253e-168, 4.73711731e-121,\n",
       "        1.89657866e-041],\n",
       "       [3.80424334e-037, 6.89130752e-077, 1.47085529e-194,\n",
       "        1.00000000e+000],\n",
       "       [6.39501632e-144, 1.00000000e+000, 4.36648394e-122,\n",
       "        3.68138629e-084],\n",
       "       [1.00000000e+000, 3.56368290e-152, 1.99920911e-118,\n",
       "        9.44702385e-034],\n",
       "       [6.90972672e-138, 1.00000000e+000, 6.32331561e-146,\n",
       "        5.92027800e-073],\n",
       "       [1.00000000e+000, 1.64494747e-154, 4.76840023e-119,\n",
       "        9.32259930e-035],\n",
       "       [3.29442434e-028, 2.12405031e-060, 5.88027577e-151,\n",
       "        1.00000000e+000],\n",
       "       [7.06808427e-178, 6.61694380e-155, 1.00000000e+000,\n",
       "        7.94255540e-189],\n",
       "       [1.98439960e-026, 2.05579045e-074, 1.00950345e-165,\n",
       "        1.00000000e+000],\n",
       "       [2.14889062e-166, 4.62480660e-148, 1.00000000e+000,\n",
       "        5.45122717e-178],\n",
       "       [2.81631286e-195, 3.50953661e-133, 1.00000000e+000,\n",
       "        2.79231253e-191],\n",
       "       [1.00000000e+000, 6.71280566e-179, 5.74991874e-146,\n",
       "        1.46308867e-038],\n",
       "       [4.34941732e-151, 1.00000000e+000, 3.49557752e-123,\n",
       "        3.21935197e-090],\n",
       "       [8.61725886e-135, 1.00000000e+000, 1.50415628e-112,\n",
       "        2.43676596e-078],\n",
       "       [4.46351697e-179, 2.42251236e-142, 1.00000000e+000,\n",
       "        4.19894395e-184],\n",
       "       [3.83238081e-130, 1.00000000e+000, 5.03288564e-108,\n",
       "        2.55700824e-075],\n",
       "       [3.19725144e-037, 8.50993732e-067, 7.91151378e-182,\n",
       "        1.00000000e+000],\n",
       "       [1.00000000e+000, 3.60278493e-129, 2.45803836e-115,\n",
       "        5.49635834e-023],\n",
       "       [4.13416576e-029, 8.48349471e-076, 4.35884242e-174,\n",
       "        1.00000000e+000],\n",
       "       [1.00000000e+000, 4.16580399e-143, 2.89760352e-119,\n",
       "        7.82375760e-029],\n",
       "       [4.50241589e-153, 1.00000000e+000, 5.89962612e-124,\n",
       "        8.53397439e-092],\n",
       "       [2.07248192e-022, 7.69827393e-078, 1.55308656e-160,\n",
       "        1.00000000e+000],\n",
       "       [9.81741222e-033, 3.54246111e-085, 8.34339471e-195,\n",
       "        1.00000000e+000],\n",
       "       [2.36936989e-203, 1.64488363e-131, 1.00000000e+000,\n",
       "        3.89464511e-196],\n",
       "       [1.45830317e-191, 1.36446772e-150, 1.00000000e+000,\n",
       "        3.55048974e-196],\n",
       "       [2.37439618e-027, 1.35524744e-074, 3.22976586e-168,\n",
       "        1.00000000e+000],\n",
       "       [5.57434050e-125, 1.00000000e+000, 3.15301442e-121,\n",
       "        9.37335616e-068],\n",
       "       [1.00000000e+000, 1.83292774e-145, 3.48376817e-118,\n",
       "        2.21067006e-030],\n",
       "       [3.89304034e-124, 1.00000000e+000, 6.26368651e-130,\n",
       "        7.40443717e-065],\n",
       "       [1.82078782e-169, 5.07789148e-130, 1.00000000e+000,\n",
       "        3.50399718e-172],\n",
       "       [1.00000000e+000, 1.53710529e-155, 8.00169435e-114,\n",
       "        6.23192310e-037],\n",
       "       [1.00000000e+000, 9.63485457e-150, 3.49679303e-126,\n",
       "        5.16917107e-030],\n",
       "       [2.85601738e-182, 2.60839827e-142, 1.00000000e+000,\n",
       "        2.87746235e-186],\n",
       "       [3.62513506e-127, 1.00000000e+000, 7.72591383e-121,\n",
       "        9.21034972e-070],\n",
       "       [2.01488882e-033, 2.25588056e-059, 1.05232780e-162,\n",
       "        1.00000000e+000],\n",
       "       [1.00000000e+000, 4.84004934e-147, 1.05556273e-122,\n",
       "        9.48453170e-030],\n",
       "       [5.86873339e-036, 3.21604642e-067, 2.47634098e-179,\n",
       "        1.00000000e+000],\n",
       "       [1.31143124e-032, 3.26539811e-067, 3.45278200e-171,\n",
       "        1.00000000e+000],\n",
       "       [1.00000000e+000, 4.59326834e-157, 1.64244477e-124,\n",
       "        2.50447983e-034],\n",
       "       [4.12175550e-024, 2.63587153e-070, 2.28405985e-154,\n",
       "        1.00000000e+000],\n",
       "       [6.98113339e-161, 1.61149469e-142, 1.00000000e+000,\n",
       "        9.21214062e-172],\n",
       "       [9.59257646e-162, 1.00000000e+000, 1.72148132e-124,\n",
       "        2.45431644e-099],\n",
       "       [2.84025190e-166, 1.28510717e-132, 1.00000000e+000,\n",
       "        4.18819448e-171],\n",
       "       [4.90453514e-127, 1.00000000e+000, 7.69811407e-121,\n",
       "        1.20096130e-069],\n",
       "       [1.90956117e-030, 1.59914133e-077, 1.45692766e-179,\n",
       "        1.00000000e+000],\n",
       "       [4.02395345e-119, 8.07980934e-113, 1.00000000e+000,\n",
       "        1.29232394e-129],\n",
       "       [7.92260104e-029, 8.35736235e-074, 9.43501811e-171,\n",
       "        1.00000000e+000],\n",
       "       [1.78719350e-029, 4.96946785e-066, 7.11283371e-162,\n",
       "        1.00000000e+000],\n",
       "       [1.71262611e-148, 1.00000000e+000, 2.40730374e-117,\n",
       "        3.09832020e-089],\n",
       "       [9.61527960e-188, 4.09319415e-180, 1.00000000e+000,\n",
       "        7.27884227e-207],\n",
       "       [1.00000000e+000, 3.40035365e-155, 5.29807073e-123,\n",
       "        7.55869173e-034],\n",
       "       [1.00000000e+000, 3.64833120e-161, 1.35728548e-130,\n",
       "        1.80438955e-034],\n",
       "       [1.00000000e+000, 4.13370788e-152, 3.27186037e-122,\n",
       "        1.63921300e-032],\n",
       "       [1.00000000e+000, 6.12304583e-160, 6.79460250e-125,\n",
       "        1.08490156e-035],\n",
       "       [1.46490552e-031, 2.64033686e-069, 2.07435470e-171,\n",
       "        1.00000000e+000],\n",
       "       [2.26986773e-146, 1.00000000e+000, 5.32005663e-117,\n",
       "        1.87898281e-087],\n",
       "       [1.00000000e+000, 3.09818973e-167, 8.05522858e-136,\n",
       "        6.78330603e-036],\n",
       "       [5.97887223e-183, 3.85436968e-144, 1.00000000e+000,\n",
       "        1.59213009e-187],\n",
       "       [2.41137108e-023, 5.56346465e-079, 2.23042017e-164,\n",
       "        1.00000000e+000],\n",
       "       [1.07544997e-123, 1.00000000e+000, 3.70763721e-114,\n",
       "        2.54726296e-068],\n",
       "       [1.67136080e-145, 1.00000000e+000, 3.84085361e-116,\n",
       "        6.96809043e-087],\n",
       "       [1.25532752e-134, 1.00000000e+000, 3.72596128e-136,\n",
       "        1.45105592e-072],\n",
       "       [1.00000000e+000, 8.32630763e-168, 3.44407087e-122,\n",
       "        1.21211538e-040],\n",
       "       [1.16665445e-026, 1.24517612e-075, 6.29995211e-168,\n",
       "        1.00000000e+000],\n",
       "       [8.12552896e-142, 1.00000000e+000, 1.47902132e-129,\n",
       "        1.47418277e-080],\n",
       "       [1.75010673e-162, 8.62827333e-132, 1.00000000e+000,\n",
       "        3.90136805e-168],\n",
       "       [1.03087455e-026, 1.67875510e-066, 1.25967506e-155,\n",
       "        1.00000000e+000],\n",
       "       [1.00000000e+000, 1.13380510e-143, 2.23795136e-124,\n",
       "        1.75031595e-027],\n",
       "       [1.00000000e+000, 3.98434704e-168, 6.44341310e-131,\n",
       "        5.56076524e-038],\n",
       "       [2.82639070e-028, 1.21903967e-069, 8.41930402e-164,\n",
       "        1.00000000e+000],\n",
       "       [1.59081331e-180, 9.35469530e-146, 1.00000000e+000,\n",
       "        1.40628434e-186],\n",
       "       [7.30486268e-034, 9.14014708e-071, 6.52988543e-179,\n",
       "        1.00000000e+000],\n",
       "       [3.65838805e-135, 1.00000000e+000, 7.32825867e-129,\n",
       "        7.54264094e-075],\n",
       "       [1.00000000e+000, 8.87793045e-160, 3.54396556e-140,\n",
       "        1.48004951e-030],\n",
       "       [2.34317929e-162, 1.56182628e-139, 1.00000000e+000,\n",
       "        1.90937607e-171],\n",
       "       [6.36043997e-174, 3.46122334e-129, 1.00000000e+000,\n",
       "        6.73106486e-175],\n",
       "       [1.00000000e+000, 5.58428735e-177, 4.81978900e-118,\n",
       "        9.51765751e-047],\n",
       "       [4.52749252e-140, 1.00000000e+000, 6.68162571e-133,\n",
       "        3.33898113e-078],\n",
       "       [3.30324412e-161, 1.21686430e-130, 1.00000000e+000,\n",
       "        9.35811063e-167],\n",
       "       [6.41439353e-030, 7.59654510e-060, 1.55542217e-154,\n",
       "        1.00000000e+000],\n",
       "       [1.00000000e+000, 1.84301896e-149, 4.30513249e-120,\n",
       "        7.94336224e-032],\n",
       "       [4.64530944e-030, 8.71561217e-078, 5.49085147e-179,\n",
       "        1.00000000e+000],\n",
       "       [1.00000000e+000, 6.12499364e-184, 1.01690326e-118,\n",
       "        3.46515715e-050],\n",
       "       [1.00000000e+000, 8.59140235e-146, 4.53842704e-134,\n",
       "        2.16855352e-025],\n",
       "       [2.18027515e-021, 2.43715714e-080, 1.87067371e-161,\n",
       "        1.00000000e+000],\n",
       "       [1.20619448e-031, 4.03818398e-080, 8.69010968e-186,\n",
       "        1.00000000e+000],\n",
       "       [1.69329661e-030, 1.07306790e-070, 1.13997798e-170,\n",
       "        1.00000000e+000],\n",
       "       [1.00000000e+000, 8.46429873e-130, 8.74406174e-116,\n",
       "        3.65743612e-023],\n",
       "       [1.27213254e-168, 5.87991950e-121, 1.00000000e+000,\n",
       "        9.88177276e-168],\n",
       "       [1.42977818e-132, 1.00000000e+000, 1.18395782e-113,\n",
       "        3.69805668e-076],\n",
       "       [1.00000000e+000, 7.62778906e-156, 2.87554715e-117,\n",
       "        5.23037451e-036],\n",
       "       [1.00000000e+000, 2.15342653e-163, 1.06112479e-143,\n",
       "        3.10470846e-031],\n",
       "       [3.70705088e-132, 1.00000000e+000, 2.77997112e-128,\n",
       "        2.43843030e-072],\n",
       "       [1.15705295e-035, 3.27628413e-074, 1.14772622e-187,\n",
       "        1.00000000e+000],\n",
       "       [9.23856992e-155, 1.00000000e+000, 1.08380917e-121,\n",
       "        8.72412805e-094],\n",
       "       [1.72634480e-130, 1.00000000e+000, 8.57061266e-120,\n",
       "        6.43624296e-073],\n",
       "       [3.31479478e-039, 4.30935267e-069, 1.63855104e-189,\n",
       "        1.00000000e+000],\n",
       "       [1.53678032e-164, 1.91597545e-127, 1.00000000e+000,\n",
       "        1.13492884e-167],\n",
       "       [9.75740306e-172, 2.60263816e-140, 1.00000000e+000,\n",
       "        3.31938311e-178],\n",
       "       [8.80222847e-039, 4.61415384e-060, 7.39995705e-177,\n",
       "        1.00000000e+000],\n",
       "       [1.00000000e+000, 1.18112296e-161, 1.35927108e-129,\n",
       "        4.72381134e-035],\n",
       "       [1.00000000e+000, 1.43084206e-167, 4.07110642e-118,\n",
       "        8.15705863e-042],\n",
       "       [3.72831716e-149, 1.00000000e+000, 3.66761915e-135,\n",
       "        1.01148637e-085],\n",
       "       [3.36612313e-189, 1.92654593e-146, 1.00000000e+000,\n",
       "        8.99898012e-193],\n",
       "       [1.31141785e-165, 6.42783900e-116, 1.00000000e+000,\n",
       "        1.65080068e-163],\n",
       "       [2.05989303e-034, 8.36702114e-076, 9.34668884e-187,\n",
       "        1.00000000e+000],\n",
       "       [1.95952323e-184, 1.97659778e-132, 1.00000000e+000,\n",
       "        1.62489909e-183],\n",
       "       [3.71767420e-120, 1.00000000e+000, 1.17160279e-110,\n",
       "        4.54051965e-066],\n",
       "       [4.88692808e-027, 4.53316937e-080, 9.08082701e-175,\n",
       "        1.00000000e+000],\n",
       "       [1.00000000e+000, 3.48744593e-184, 2.72761813e-143,\n",
       "        2.95821230e-042],\n",
       "       [1.45250235e-122, 1.00000000e+000, 1.38712928e-114,\n",
       "        3.08864143e-067],\n",
       "       [2.48986146e-138, 1.00000000e+000, 3.87940206e-127,\n",
       "        4.65659461e-078],\n",
       "       [4.38754903e-025, 1.29649355e-081, 3.90391724e-172,\n",
       "        1.00000000e+000],\n",
       "       [2.46846393e-132, 1.00000000e+000, 6.83759499e-122,\n",
       "        4.89905246e-074],\n",
       "       [1.00000000e+000, 1.92572316e-148, 1.35480734e-122,\n",
       "        1.67302855e-030],\n",
       "       [6.16160638e-164, 9.12618563e-136, 1.00000000e+000,\n",
       "        7.16032448e-171],\n",
       "       [2.27812761e-171, 1.83610317e-144, 1.00000000e+000,\n",
       "        8.88071248e-180],\n",
       "       [1.78287038e-023, 8.45814083e-073, 3.12250724e-156,\n",
       "        1.00000000e+000],\n",
       "       [1.00000000e+000, 9.37331441e-159, 2.24299274e-121,\n",
       "        3.30322954e-036],\n",
       "       [1.39231008e-141, 1.00000000e+000, 2.09778709e-145,\n",
       "        2.11327569e-076],\n",
       "       [1.00000000e+000, 1.60233988e-166, 3.05830828e-137,\n",
       "        4.76206519e-035],\n",
       "       [1.39037376e-176, 5.63172910e-150, 1.00000000e+000,\n",
       "        9.27262481e-186],\n",
       "       [1.00000000e+000, 9.42460683e-149, 1.99382777e-132,\n",
       "        1.86086405e-027],\n",
       "       [1.00000000e+000, 8.62666952e-167, 1.42441664e-111,\n",
       "        1.86285931e-043],\n",
       "       [1.03468982e-143, 1.00000000e+000, 1.92125467e-126,\n",
       "        5.72961106e-083],\n",
       "       [5.26339982e-146, 1.00000000e+000, 5.28985859e-128,\n",
       "        1.25458764e-084],\n",
       "       [1.45028252e-156, 1.00000000e+000, 3.37560379e-127,\n",
       "        3.74672363e-094],\n",
       "       [4.42439296e-039, 8.36363854e-073, 6.35433145e-194,\n",
       "        1.00000000e+000],\n",
       "       [2.26019944e-141, 1.00000000e+000, 1.01185729e-117,\n",
       "        6.44441501e-083],\n",
       "       [4.71633621e-142, 1.00000000e+000, 6.03973881e-132,\n",
       "        3.42261558e-080],\n",
       "       [1.00000000e+000, 6.64149288e-163, 1.32578216e-128,\n",
       "        5.04183944e-036],\n",
       "       [2.29995115e-031, 7.74105941e-075, 3.04572597e-178,\n",
       "        1.00000000e+000],\n",
       "       [2.22981929e-157, 2.17952000e-128, 1.00000000e+000,\n",
       "        3.94736933e-163],\n",
       "       [6.40595256e-147, 1.00000000e+000, 6.82857832e-122,\n",
       "        7.68128036e-087],\n",
       "       [1.10122496e-133, 1.00000000e+000, 5.31576589e-117,\n",
       "        2.31346682e-076],\n",
       "       [1.22457359e-182, 1.25776495e-141, 1.00000000e+000,\n",
       "        3.19139843e-186],\n",
       "       [4.63071278e-140, 1.00000000e+000, 2.29719773e-133,\n",
       "        4.42471391e-078],\n",
       "       [1.00000000e+000, 2.34997717e-141, 6.03153573e-118,\n",
       "        2.34387791e-028],\n",
       "       [2.86158055e-031, 3.30185097e-070, 6.69077049e-172,\n",
       "        1.00000000e+000],\n",
       "       [2.39257441e-163, 4.51353959e-144, 1.00000000e+000,\n",
       "        3.89283091e-174],\n",
       "       [1.05871375e-183, 2.77215388e-141, 1.00000000e+000,\n",
       "        8.45031725e-187],\n",
       "       [1.17784894e-149, 1.00000000e+000, 5.25629761e-139,\n",
       "        3.10485754e-085],\n",
       "       [3.11982541e-195, 4.68641548e-135, 1.00000000e+000,\n",
       "        4.91884954e-192],\n",
       "       [4.15311460e-131, 1.00000000e+000, 4.07808025e-144,\n",
       "        2.29157957e-067],\n",
       "       [5.79738290e-028, 4.36881926e-074, 5.01178708e-169,\n",
       "        1.00000000e+000],\n",
       "       [8.91045251e-032, 1.11962993e-074, 5.08865107e-179,\n",
       "        1.00000000e+000],\n",
       "       [9.29245313e-160, 2.63819586e-148, 1.00000000e+000,\n",
       "        1.38024266e-173],\n",
       "       [2.50179530e-028, 3.11254953e-072, 1.97936368e-167,\n",
       "        1.00000000e+000],\n",
       "       [8.39004798e-175, 1.80793364e-149, 1.00000000e+000,\n",
       "        2.50830519e-184],\n",
       "       [1.00000000e+000, 3.86037654e-155, 2.99333176e-116,\n",
       "        5.77152427e-036],\n",
       "       [1.00000000e+000, 1.00322932e-154, 7.35731366e-131,\n",
       "        4.73082760e-031],\n",
       "       [1.00000000e+000, 5.44005815e-153, 9.83535171e-133,\n",
       "        1.54289442e-029],\n",
       "       [3.34833869e-038, 1.86324190e-058, 2.47116620e-173,\n",
       "        1.00000000e+000],\n",
       "       [6.23694910e-145, 1.00000000e+000, 3.87137021e-131,\n",
       "        6.16806274e-083],\n",
       "       [8.01894421e-141, 1.00000000e+000, 2.73723332e-129,\n",
       "        9.62420917e-080],\n",
       "       [1.68026505e-138, 1.00000000e+000, 1.11159398e-107,\n",
       "        1.23687168e-082],\n",
       "       [4.24434158e-035, 8.67829018e-080, 1.85975677e-193,\n",
       "        1.00000000e+000],\n",
       "       [2.95774098e-032, 1.35532801e-065, 3.63913277e-168,\n",
       "        1.00000000e+000],\n",
       "       [5.04792089e-170, 6.46808377e-147, 1.00000000e+000,\n",
       "        6.01018108e-180],\n",
       "       [1.00000000e+000, 3.55147307e-173, 1.48526164e-129,\n",
       "        4.61771387e-041],\n",
       "       [1.00000000e+000, 6.21187400e-170, 5.31401573e-126,\n",
       "        1.59016717e-040],\n",
       "       [4.09133571e-029, 9.36327972e-060, 2.28439180e-152,\n",
       "        1.00000000e+000],\n",
       "       [1.00000000e+000, 3.68287512e-162, 1.26398192e-139,\n",
       "        5.58919619e-032],\n",
       "       [5.60278183e-160, 1.00000000e+000, 8.38880524e-140,\n",
       "        2.85032187e-094],\n",
       "       [1.25130766e-041, 2.16364913e-064, 2.72747562e-189,\n",
       "        1.00000000e+000],\n",
       "       [1.45987963e-157, 3.35725332e-139, 1.00000000e+000,\n",
       "        5.15542131e-168],\n",
       "       [9.34197788e-127, 1.00000000e+000, 7.92068708e-124,\n",
       "        1.11685249e-068]])"
      ]
     },
     "execution_count": 378,
     "metadata": {},
     "output_type": "execute_result"
    }
   ],
   "source": [
    "#soft clustering \n",
    "gmm.predict_proba(x)"
   ]
  },
  {
   "cell_type": "code",
   "execution_count": 379,
   "metadata": {},
   "outputs": [
    {
     "data": {
      "text/plain": [
       "<matplotlib.colorbar.Colorbar at 0x7f2a84402410>"
      ]
     },
     "execution_count": 379,
     "metadata": {},
     "output_type": "execute_result"
    },
    {
     "data": {
      "image/png": "[encoded data removed]",
      "text/plain": [
       "<Figure size 640x480 with 2 Axes>"
      ]
     },
     "metadata": {},
     "output_type": "display_data"
    }
   ],
   "source": [
    "plt.scatter(x[:  , 0 ] , x[:,1] , c = labels  , s = 30 , cmap = 'viridis')\n",
    "plt.colorbar()"
   ]
  },
  {
   "cell_type": "code",
   "execution_count": 380,
   "metadata": {},
   "outputs": [],
   "source": [
    "#plotting the center of each cluster \n",
    "centers = gmm.means_\n"
   ]
  },
  {
   "cell_type": "code",
   "execution_count": 381,
   "metadata": {},
   "outputs": [
    {
     "data": {
      "text/plain": [
       "array([[-8.7850371 ,  7.37403591],\n",
       "       [ 4.60639759,  2.07515451],\n",
       "       [-6.80424841, -6.88571308],\n",
       "       [-2.62455845,  8.94744168]])"
      ]
     },
     "execution_count": 381,
     "metadata": {},
     "output_type": "execute_result"
    }
   ],
   "source": [
    "centers"
   ]
  },
  {
   "cell_type": "code",
   "execution_count": 382,
   "metadata": {},
   "outputs": [
    {
     "data": {
      "text/plain": [
       "(4, 2)"
      ]
     },
     "execution_count": 382,
     "metadata": {},
     "output_type": "execute_result"
    }
   ],
   "source": [
    "centers.shape # note that  our data sets has 4 cluster and 2 features "
   ]
  },
  {
   "cell_type": "markdown",
   "metadata": {},
   "source": [
    "##  we are plotting scatter plot  of the center with minimum brightness of 0.2 alpha and size accordingly thus we will able to plot centerS"
   ]
  },
  {
   "cell_type": "code",
   "execution_count": 383,
   "metadata": {},
   "outputs": [
    {
     "data": {
      "image/png": "[encoded data removed]",
      "text/plain": [
       "<Figure size 640x480 with 1 Axes>"
      ]
     },
     "metadata": {},
     "output_type": "display_data"
    }
   ],
   "source": [
    "plt.scatter(centers[: , 0]   , centers[: , 1 ]  , c = 'black' , alpha = 0.2 , s = 500)\n",
    "plt.show()"
   ]
  },
  {
   "cell_type": "markdown",
   "metadata": {},
   "source": [
    "## plotting center"
   ]
  },
  {
   "cell_type": "code",
   "execution_count": 384,
   "metadata": {},
   "outputs": [
    {
     "data": {
      "image/png": "[encoded data removed]",
      "text/plain": [
       "<Figure size 640x480 with 1 Axes>"
      ]
     },
     "metadata": {},
     "output_type": "display_data"
    }
   ],
   "source": [
    "plt.scatter(x[: , 0] , x[: , 1 ] , c = labels  )\n",
    "plt.scatter(centers[: , 0]   , centers[: , 1 ]  , c = 'red' , alpha = 0.2 , s = 100)\n",
    "plt.show()"
   ]
  },
  {
   "cell_type": "code",
   "execution_count": 385,
   "metadata": {},
   "outputs": [
    {
     "data": {
      "text/plain": [
       "True"
      ]
     },
     "execution_count": 385,
     "metadata": {},
     "output_type": "execute_result"
    }
   ],
   "source": [
    "gmm.converged_ #testing to convereange "
   ]
  },
  {
   "cell_type": "code",
   "execution_count": 386,
   "metadata": {},
   "outputs": [
    {
     "data": {
      "text/plain": [
       "2"
      ]
     },
     "execution_count": 386,
     "metadata": {},
     "output_type": "execute_result"
    }
   ],
   "source": [
    "gmm.n_iter_"
   ]
  },
  {
   "cell_type": "code",
   "execution_count": 387,
   "metadata": {},
   "outputs": [
    {
     "data": {
      "text/plain": [
       "array([[[ 0.3156621 , -0.02540356],\n",
       "        [-0.02540356,  0.25546198]],\n",
       "\n",
       "       [[ 0.28646141,  0.0180137 ],\n",
       "        [ 0.0180137 ,  0.36774224]],\n",
       "\n",
       "       [[ 0.45473681, -0.04485563],\n",
       "        [-0.04485563,  0.35498912]],\n",
       "\n",
       "       [[ 0.24924476,  0.00652694],\n",
       "        [ 0.00652694,  0.32875652]]])"
      ]
     },
     "execution_count": 387,
     "metadata": {},
     "output_type": "execute_result"
    }
   ],
   "source": [
    "gmm.covariances_"
   ]
  },
  {
   "cell_type": "code",
   "execution_count": 388,
   "metadata": {},
   "outputs": [
    {
     "data": {
      "text/plain": [
       "array([[-8.7850371 ,  7.37403591],\n",
       "       [ 4.60639759,  2.07515451],\n",
       "       [-6.80424841, -6.88571308],\n",
       "       [-2.62455845,  8.94744168]])"
      ]
     },
     "execution_count": 388,
     "metadata": {},
     "output_type": "execute_result"
    }
   ],
   "source": [
    "gmm.means_"
   ]
  },
  {
   "cell_type": "code",
   "execution_count": 389,
   "metadata": {},
   "outputs": [
    {
     "data": {
      "text/plain": [
       "array([0.25, 0.25, 0.25, 0.25])"
      ]
     },
     "execution_count": 389,
     "metadata": {},
     "output_type": "execute_result"
    }
   ],
   "source": [
    "gmm.weights_"
   ]
  },
  {
   "cell_type": "code",
   "execution_count": 390,
   "metadata": {},
   "outputs": [
    {
     "data": {
      "text/plain": [
       "(200, 2)"
      ]
     },
     "execution_count": 390,
     "metadata": {},
     "output_type": "execute_result"
    }
   ],
   "source": [
    "x.shape"
   ]
  },
  {
   "cell_type": "code",
   "execution_count": 391,
   "metadata": {},
   "outputs": [
    {
     "data": {
      "text/plain": [
       "(array([[-7.34341939,  7.55148278],\n",
       "        [-7.99825484,  8.12706574],\n",
       "        [-9.54908215,  7.38611677],\n",
       "        [ 5.48985478,  3.47395203],\n",
       "        [ 4.9687596 ,  2.30020209],\n",
       "        [ 5.31695053,  1.81159944],\n",
       "        [-6.50677837, -6.82850084],\n",
       "        [-6.1095522 , -6.9175295 ],\n",
       "        [-2.28471544,  8.9389824 ],\n",
       "        [-2.97915855,  8.07618661]]),\n",
       " array([0, 0, 0, 1, 1, 1, 2, 2, 3, 3]))"
      ]
     },
     "execution_count": 391,
     "metadata": {},
     "output_type": "execute_result"
    }
   ],
   "source": [
    "#generating datasets \n",
    "gmm.sample(10)\n"
   ]
  },
  {
   "cell_type": "markdown",
   "metadata": {},
   "source": [
    "### Creating Contours for GMM"
   ]
  },
  {
   "cell_type": "code",
   "execution_count": 392,
   "metadata": {},
   "outputs": [],
   "source": [
    "from scipy.stats import multivariate_normal "
   ]
  },
  {
   "cell_type": "code",
   "execution_count": 394,
   "metadata": {},
   "outputs": [
    {
     "data": {
      "image/png": "[encoded data removed]",
      "text/plain": [
       "<Figure size 640x480 with 1 Axes>"
      ]
     },
     "metadata": {},
     "output_type": "display_data"
    }
   ],
   "source": [
    "from scipy.stats import multivariate_normal\n",
    "\n",
    "# Plotting the clusters\n",
    "plt.scatter(x[:, 0], x[:, 1], c=labels, s=40, cmap='viridis')\n",
    "\n",
    "\n",
    "# Define the grid for plotting\n",
    "x_ = np.linspace(np.min(x[:, 0]), np.max(x[:, 0]), 100)\n",
    "y_ = np.linspace(np.min(x[:, 1]), np.max(x[:, 1]), 100)\n",
    "X, Y = np.meshgrid(x_, y_)\n",
    "XX = np.array([X.ravel(), Y.ravel()]).T\n",
    "\n",
    "# Plotting the contour plot of each Gaussian component\n",
    "colors = ['red', 'yellow', 'blue', 'black']\n",
    "for i, (mean, covar, color) in enumerate(zip(gmm.means_, gmm.covariances_, colors)):\n",
    "    rv = multivariate_normal(mean, covar)\n",
    "    Z = rv.pdf(XX)\n",
    "    Z = Z.reshape(X.shape)\n",
    "    plt.contour(X, Y, Z, levels=np.linspace(Z.min(), Z.max(), 7), colors=color)\n",
    "\n",
    "plt.title(\"GMM Clustering with Gaussian Contours\")\n",
    "plt.xlabel(\"Feature 1\")\n",
    "plt.ylabel(\"Feature 2\")\n",
    "plt.show()"
   ]
  },
  {
   "cell_type": "markdown",
   "metadata": {},
   "source": [
    "### explanation ---- (uncomplete)"
   ]
  },
  {
   "cell_type": "code",
   "execution_count": 395,
   "metadata": {},
   "outputs": [
    {
     "data": {
      "text/plain": [
       "<matplotlib.collections.PathCollection at 0x7f2a8446a690>"
      ]
     },
     "execution_count": 395,
     "metadata": {},
     "output_type": "execute_result"
    },
    {
     "data": {
      "image/png": "[encoded data removed]",
      "text/plain": [
       "<Figure size 640x480 with 1 Axes>"
      ]
     },
     "metadata": {},
     "output_type": "display_data"
    }
   ],
   "source": [
    "plt.scatter(X , Y )"
   ]
  },
  {
   "cell_type": "code",
   "execution_count": null,
   "metadata": {},
   "outputs": [],
   "source": []
  },
  {
   "cell_type": "code",
   "execution_count": null,
   "metadata": {},
   "outputs": [],
   "source": []
  },
  {
   "cell_type": "code",
   "execution_count": null,
   "metadata": {},
   "outputs": [],
   "source": []
  },
  {
   "cell_type": "code",
   "execution_count": null,
   "metadata": {},
   "outputs": [],
   "source": []
  },
  {
   "cell_type": "code",
   "execution_count": 396,
   "metadata": {},
   "outputs": [],
   "source": [
    "x = [1 , 2 ,3 ]\n",
    "y = [4 ,5 ,6]\n",
    "x , y  = np.meshgrid(x , y )"
   ]
  },
  {
   "cell_type": "code",
   "execution_count": 397,
   "metadata": {},
   "outputs": [
    {
     "data": {
      "text/plain": [
       "array([[4, 4, 4],\n",
       "       [5, 5, 5],\n",
       "       [6, 6, 6]])"
      ]
     },
     "execution_count": 397,
     "metadata": {},
     "output_type": "execute_result"
    }
   ],
   "source": [
    "y"
   ]
  },
  {
   "cell_type": "code",
   "execution_count": null,
   "metadata": {},
   "outputs": [],
   "source": []
  },
  {
   "cell_type": "code",
   "execution_count": 398,
   "metadata": {},
   "outputs": [
    {
     "data": {
      "text/plain": [
       "(2, 9)"
      ]
     },
     "execution_count": 398,
     "metadata": {},
     "output_type": "execute_result"
    }
   ],
   "source": [
    "np.array([x.ravel() , y.ravel() ]).shape"
   ]
  },
  {
   "cell_type": "code",
   "execution_count": 399,
   "metadata": {},
   "outputs": [
    {
     "data": {
      "text/plain": [
       "array([[1, 2, 3],\n",
       "       [1, 2, 3],\n",
       "       [1, 2, 3]])"
      ]
     },
     "execution_count": 399,
     "metadata": {},
     "output_type": "execute_result"
    }
   ],
   "source": [
    "x"
   ]
  },
  {
   "cell_type": "code",
   "execution_count": 400,
   "metadata": {},
   "outputs": [
    {
     "data": {
      "text/plain": [
       "array([[4, 4, 4],\n",
       "       [5, 5, 5],\n",
       "       [6, 6, 6]])"
      ]
     },
     "execution_count": 400,
     "metadata": {},
     "output_type": "execute_result"
    }
   ],
   "source": [
    "y"
   ]
  },
  {
   "cell_type": "code",
   "execution_count": 401,
   "metadata": {},
   "outputs": [],
   "source": [
    "l1 = [\"eat\", \"sleep\", \"repeat\"]"
   ]
  },
  {
   "cell_type": "code",
   "execution_count": 402,
   "metadata": {},
   "outputs": [],
   "source": [
    "a = (\"John\", \"Charles\", \"Mike\")\n",
    "b = (\"Jenny\", \"Christy\", \"Monica\", \"Vicky\")\n",
    "\n",
    "x = zip(a, b) "
   ]
  },
  {
   "cell_type": "code",
   "execution_count": 403,
   "metadata": {},
   "outputs": [
    {
     "data": {
      "text/plain": [
       "[('John', 'Jenny'), ('Charles', 'Christy'), ('Mike', 'Monica')]"
      ]
     },
     "execution_count": 403,
     "metadata": {},
     "output_type": "execute_result"
    }
   ],
   "source": [
    "list(x)"
   ]
  },
  {
   "cell_type": "code",
   "execution_count": 404,
   "metadata": {},
   "outputs": [],
   "source": [
    "colors = ['red' , 'blue' , 'yellow' , 'black']"
   ]
  },
  {
   "cell_type": "code",
   "execution_count": 405,
   "metadata": {},
   "outputs": [
    {
     "name": "stdout",
     "output_type": "stream",
     "text": [
      "shape of gmm.means is  (4, 2)\n",
      "shape of gmm.covariances is  (4, 2, 2)\n",
      "lentht of colors are  4\n"
     ]
    }
   ],
   "source": [
    "print(\"shape of gmm.means is \"  , gmm.means_.shape )\n",
    "print(\"shape of gmm.covariances is \" , gmm.covariances_.shape ) \n",
    "print(\"lentht of colors are \" , len(colors))"
   ]
  },
  {
   "cell_type": "code",
   "execution_count": 406,
   "metadata": {},
   "outputs": [
    {
     "ename": "SyntaxError",
     "evalue": "invalid syntax (3517684404.py, line 1)",
     "output_type": "error",
     "traceback": [
      "\u001b[0;36m  Cell \u001b[0;32mIn[406], line 1\u001b[0;36m\u001b[0m\n\u001b[0;31m    9+(4*2*)\u001b[0m\n\u001b[0m           ^\u001b[0m\n\u001b[0;31mSyntaxError\u001b[0m\u001b[0;31m:\u001b[0m invalid syntax\n"
     ]
    }
   ],
   "source": [
    "9+(4*2*) "
   ]
  },
  {
   "cell_type": "code",
   "execution_count": null,
   "metadata": {},
   "outputs": [],
   "source": [
    "#lets create a dummy data sets copying the shape proterty \n",
    "m_  = np.arange( 1 , 9  ).reshape(4 , 2 )\n",
    "c_ = np.arange(9  , 25).reshape((4 , 2 , 2 ))\n",
    "co = ['a'  , 'b' , 'c'  , 'd']\n",
    "\n"
   ]
  },
  {
   "cell_type": "code",
   "execution_count": null,
   "metadata": {},
   "outputs": [
    {
     "name": "stdout",
     "output_type": "stream",
     "text": [
      "shape of m_ is  (4, 2)\n",
      "shape of c_ is  (4, 2, 2)\n",
      "lentht of co  are  4\n"
     ]
    }
   ],
   "source": [
    "print(\"shape of m_ is \"  , m_.shape )\n",
    "print(\"shape of c_ is \" , c_.shape ) \n",
    "print(\"lentht of co  are \" , len(co))\n",
    "\n"
   ]
  },
  {
   "cell_type": "code",
   "execution_count": null,
   "metadata": {},
   "outputs": [
    {
     "name": "stdout",
     "output_type": "stream",
     "text": [
      "[(array([1, 2]), array([[ 9, 10],\n",
      "       [11, 12]]), 'a'), (array([3, 4]), array([[13, 14],\n",
      "       [15, 16]]), 'b'), (array([5, 6]), array([[17, 18],\n",
      "       [19, 20]]), 'c'), (array([7, 8]), array([[21, 22],\n",
      "       [23, 24]]), 'd')]\n",
      "4\n"
     ]
    }
   ],
   "source": [
    "print(list(zip(m_ , c_ , co)))\n",
    "#len \n",
    "print(len(list(zip(m_  , c_ , co))))\n",
    "# that means 4 list \n",
    "# thus this creats a tupple of each first values \n",
    "# 1st list =  (1st mean array  , first  coraiance , first color )\n",
    "# so on 2nd list "
   ]
  },
  {
   "cell_type": "code",
   "execution_count": null,
   "metadata": {},
   "outputs": [
    {
     "name": "stdout",
     "output_type": "stream",
     "text": [
      "0\n",
      "1\n",
      "2\n",
      "3\n"
     ]
    }
   ],
   "source": [
    "\n",
    "for i, (mean, covar, color) in enumerate(zip(gmm.means_, gmm.covariances_, colors)):\n",
    "    print(i)\n"
   ]
  },
  {
   "cell_type": "code",
   "execution_count": null,
   "metadata": {},
   "outputs": [],
   "source": [
    "x = zip(gmm.means_ , gmm.covariances_, colors )"
   ]
  },
  {
   "cell_type": "code",
   "execution_count": null,
   "metadata": {},
   "outputs": [
    {
     "data": {
      "text/plain": [
       "[(array([-8.7850371 ,  7.37403591]),\n",
       "  array([[ 0.3156621 , -0.02540356],\n",
       "         [-0.02540356,  0.25546198]]),\n",
       "  'red'),\n",
       " (array([4.60639759, 2.07515451]),\n",
       "  array([[0.28646141, 0.0180137 ],\n",
       "         [0.0180137 , 0.36774224]]),\n",
       "  'blue'),\n",
       " (array([-6.80424841, -6.88571308]),\n",
       "  array([[ 0.45473681, -0.04485563],\n",
       "         [-0.04485563,  0.35498912]]),\n",
       "  'yellow'),\n",
       " (array([-2.62455845,  8.94744168]),\n",
       "  array([[0.24924476, 0.00652694],\n",
       "         [0.00652694, 0.32875652]]),\n",
       "  'black')]"
      ]
     },
     "execution_count": 116,
     "metadata": {},
     "output_type": "execute_result"
    }
   ],
   "source": [
    "list(x)"
   ]
  },
  {
   "cell_type": "code",
   "execution_count": null,
   "metadata": {},
   "outputs": [],
   "source": []
  },
  {
   "cell_type": "code",
   "execution_count": null,
   "metadata": {},
   "outputs": [],
   "source": []
  },
  {
   "cell_type": "code",
   "execution_count": null,
   "metadata": {},
   "outputs": [],
   "source": []
  },
  {
   "cell_type": "code",
   "execution_count": null,
   "metadata": {},
   "outputs": [],
   "source": []
  },
  {
   "cell_type": "code",
   "execution_count": null,
   "metadata": {},
   "outputs": [],
   "source": []
  },
  {
   "cell_type": "code",
   "execution_count": null,
   "metadata": {},
   "outputs": [],
   "source": []
  },
  {
   "cell_type": "code",
   "execution_count": null,
   "metadata": {},
   "outputs": [],
   "source": []
  },
  {
   "cell_type": "code",
   "execution_count": null,
   "metadata": {},
   "outputs": [],
   "source": []
  },
  {
   "cell_type": "code",
   "execution_count": null,
   "metadata": {},
   "outputs": [],
   "source": []
  },
  {
   "cell_type": "code",
   "execution_count": null,
   "metadata": {},
   "outputs": [],
   "source": []
  },
  {
   "cell_type": "code",
   "execution_count": null,
   "metadata": {},
   "outputs": [],
   "source": []
  },
  {
   "cell_type": "code",
   "execution_count": null,
   "metadata": {},
   "outputs": [],
   "source": []
  },
  {
   "cell_type": "code",
   "execution_count": null,
   "metadata": {},
   "outputs": [],
   "source": []
  },
  {
   "cell_type": "code",
   "execution_count": null,
   "metadata": {},
   "outputs": [],
   "source": []
  },
  {
   "cell_type": "code",
   "execution_count": null,
   "metadata": {},
   "outputs": [],
   "source": []
  },
  {
   "cell_type": "code",
   "execution_count": null,
   "metadata": {},
   "outputs": [],
   "source": []
  },
  {
   "cell_type": "code",
   "execution_count": null,
   "metadata": {},
   "outputs": [],
   "source": []
  },
  {
   "cell_type": "code",
   "execution_count": null,
   "metadata": {},
   "outputs": [],
   "source": []
  }
 ],
 "metadata": {
  "kernelspec": {
   "display_name": "test",
   "language": "python",
   "name": "python3"
  },
  "language_info": {
   "codemirror_mode": {
    "name": "ipython",
    "version": 3
   },
   "file_extension": ".py",
   "mimetype": "text/x-python",
   "name": "python",
   "nbconvert_exporter": "python",
   "pygments_lexer": "ipython3",
   "version": "3.11.7"
  }
 },
 "nbformat": 4,
 "nbformat_minor": 2
}
